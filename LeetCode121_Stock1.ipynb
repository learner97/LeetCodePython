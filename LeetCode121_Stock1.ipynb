{
 "cells": [
  {
   "cell_type": "code",
   "execution_count": null,
   "metadata": {},
   "outputs": [],
   "source": [
    "class Solution:\n",
    "    def maxProfit(self, prices: List[int]) -> int:\n",
    "        minprice = sys.maxsize\n",
    "        maxprofit = 0\n",
    "        for i in range(0, len(prices)):\n",
    "            if prices[i] < minprice:\n",
    "                minprice = prices[i]\n",
    "            elif prices[i] - minprice > maxprofit:\n",
    "                maxprofit = prices[i] - minprice\n",
    "        return maxprofit"
   ]
  }
 ],
 "metadata": {
  "kernelspec": {
   "display_name": "Python 3",
   "language": "python",
   "name": "python3"
  },
  "language_info": {
   "codemirror_mode": {
    "name": "ipython",
    "version": 3
   },
   "file_extension": ".py",
   "mimetype": "text/x-python",
   "name": "python",
   "nbconvert_exporter": "python",
   "pygments_lexer": "ipython3",
   "version": "3.8.3"
  }
 },
 "nbformat": 4,
 "nbformat_minor": 4
}
