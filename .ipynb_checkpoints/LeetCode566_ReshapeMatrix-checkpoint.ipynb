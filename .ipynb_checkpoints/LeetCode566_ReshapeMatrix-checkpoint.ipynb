{
 "cells": [
  {
   "cell_type": "code",
   "execution_count": null,
   "metadata": {},
   "outputs": [],
   "source": [
    "class Solution:\n",
    "    def matrixReshape(self, mat: List[List[int]], r: int, c: int) -> List[List[int]]:\n",
    "        m = len(mat)\n",
    "        n = len(mat[0])\n",
    "        \n",
    "        result = []\n",
    "        \n",
    "        if m * n != r * c:\n",
    "            return mat\n",
    "        else:\n",
    "            count = 0\n",
    "            \n",
    "            for i in range(r):\n",
    "                templist = []\n",
    "                for j in range(c):\n",
    "                    row = count // n\n",
    "                    col = count - row * n\n",
    "                    templist.append(mat[row][col])\n",
    "                    count += 1\n",
    "                \n",
    "                result.append(templist)\n",
    "        \n",
    "        return result\n",
    "                    "
   ]
  },
  {
   "cell_type": "code",
   "execution_count": null,
   "metadata": {},
   "outputs": [],
   "source": [
    "m = len(mat)\n",
    "        n = len(mat[0])    \n",
    "        \n",
    "        new_mat = []   \n",
    "        \n",
    "        if m * n != r * c:\n",
    "            return mat\n",
    "        else:\n",
    "            total_count = 0  \n",
    "            \n",
    "            for _ in range(r):\n",
    "                temp_lis = []\n",
    "                for _ in range(c):\n",
    "                    row = (total_count) // n\n",
    "                    col = total_count - row * n\n",
    "                    temp_lis.append(mat[row][col])\n",
    "\t\t\t\t\ttotal_count += 1\n",
    "                    \n",
    "                new_mat.append(temp_lis)\n",
    "            return new_mat"
   ]
  }
 ],
 "metadata": {
  "kernelspec": {
   "display_name": "Python 3",
   "language": "python",
   "name": "python3"
  },
  "language_info": {
   "codemirror_mode": {
    "name": "ipython",
    "version": 3
   },
   "file_extension": ".py",
   "mimetype": "text/x-python",
   "name": "python",
   "nbconvert_exporter": "python",
   "pygments_lexer": "ipython3",
   "version": "3.8.3"
  }
 },
 "nbformat": 4,
 "nbformat_minor": 4
}
