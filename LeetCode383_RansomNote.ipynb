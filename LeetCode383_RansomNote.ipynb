{
 "cells": [
  {
   "cell_type": "code",
   "execution_count": null,
   "metadata": {},
   "outputs": [],
   "source": [
    "class Solution:\n",
    "    def canConstruct(self, ransomNote: str, magazine: str) -> bool:\n",
    "        ransomNoteDict = dict(Counter(ransomNote))\n",
    "        magazineDict = dict(Counter(magazine))\n",
    "        for letter, count_of_letter in ransomNoteDict.items():\n",
    "            if letter in magazineDict:\n",
    "                if count_of_letter > magazineDict[letter]: \n",
    "                    return False\n",
    "                else: \n",
    "                    pass\n",
    "            else: \n",
    "                return False\n",
    "        return True"
   ]
  }
 ],
 "metadata": {
  "kernelspec": {
   "display_name": "Python 3",
   "language": "python",
   "name": "python3"
  },
  "language_info": {
   "codemirror_mode": {
    "name": "ipython",
    "version": 3
   },
   "file_extension": ".py",
   "mimetype": "text/x-python",
   "name": "python",
   "nbconvert_exporter": "python",
   "pygments_lexer": "ipython3",
   "version": "3.8.3"
  }
 },
 "nbformat": 4,
 "nbformat_minor": 4
}
