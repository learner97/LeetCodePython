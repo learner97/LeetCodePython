{
 "cells": [
  {
   "cell_type": "code",
   "execution_count": null,
   "metadata": {},
   "outputs": [],
   "source": [
    "class Solution:\n",
    "    def intersect(self, nums1: List[int], nums2: List[int]) -> List[int]:\n",
    "        nums3 = []\n",
    "        for x in nums1:\n",
    "            for y in nums2:\n",
    "                if x == y:\n",
    "                    nums3.append(x)\n",
    "                    nums2.remove(y)\n",
    "                    break\n",
    "        return nums3\n"
   ]
  },
  {
   "cell_type": "code",
   "execution_count": null,
   "metadata": {},
   "outputs": [],
   "source": [
    "class Solution:\n",
    "    def intersect(self, nums1: List[int], nums2: List[int]) -> List[int]:\n",
    "        thisdict = {}\n",
    "        for x in nums1:\n",
    "            if x in thisdict.keys():\n",
    "                thisdict[x] += 1\n",
    "            else:\n",
    "                thisdict[x] = 0\n",
    "        \n",
    "        nums3 = []\n",
    "        for y in nums2:\n",
    "            if y in thisdict.keys() and thisdict[y] >= 0:\n",
    "                thisdict[y] -= 1\n",
    "                nums3.append(y)\n",
    "        \n",
    "        return nums3"
   ]
  },
  {
   "cell_type": "code",
   "execution_count": null,
   "metadata": {},
   "outputs": [],
   "source": [
    "class Solution:\n",
    "    def intersect(self, nums1: List[int], nums2: List[int]) -> List[int]:\n",
    "        a, b = map(collections.Counter, (nums1, nums2))\n",
    "        return list((a & b).elements())"
   ]
  }
 ],
 "metadata": {
  "kernelspec": {
   "display_name": "Python 3",
   "language": "python",
   "name": "python3"
  },
  "language_info": {
   "codemirror_mode": {
    "name": "ipython",
    "version": 3
   },
   "file_extension": ".py",
   "mimetype": "text/x-python",
   "name": "python",
   "nbconvert_exporter": "python",
   "pygments_lexer": "ipython3",
   "version": "3.8.3"
  }
 },
 "nbformat": 4,
 "nbformat_minor": 4
}
