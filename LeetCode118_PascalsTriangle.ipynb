{
 "cells": [
  {
   "cell_type": "code",
   "execution_count": null,
   "metadata": {},
   "outputs": [],
   "source": [
    "class Solution:\n",
    "    def generate(self, numRows: int) -> List[List[int]]:\n",
    "        triangle = []\n",
    "        \n",
    "        for rownum in range(numRows):\n",
    "            row = [None for _ in range(rownum + 1)]\n",
    "            row[0], row[-1] = 1, 1\n",
    "            \n",
    "            for i in range(1, len(row) - 1):\n",
    "                row[i] = triangle[rownum -1][i - 1] + triangle[rownum - 1][i]\n",
    "            \n",
    "            triangle.append(row)\n",
    "            \n",
    "        return triangle"
   ]
  }
 ],
 "metadata": {
  "kernelspec": {
   "display_name": "Python 3",
   "language": "python",
   "name": "python3"
  },
  "language_info": {
   "codemirror_mode": {
    "name": "ipython",
    "version": 3
   },
   "file_extension": ".py",
   "mimetype": "text/x-python",
   "name": "python",
   "nbconvert_exporter": "python",
   "pygments_lexer": "ipython3",
   "version": "3.8.3"
  }
 },
 "nbformat": 4,
 "nbformat_minor": 4
}
